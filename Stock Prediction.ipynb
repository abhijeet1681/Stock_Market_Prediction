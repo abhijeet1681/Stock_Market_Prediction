{
 "cells": [
  {
   "cell_type": "code",
   "execution_count": 1,
   "id": "ead0a2e5",
   "metadata": {},
   "outputs": [],
   "source": [
    "import numpy as np\n",
    "import pandas as pd\n",
    "from sklearn.preprocessing import MinMaxScaler\n",
    "import yfinance as yfin\n",
    "import matplotlib.pyplot as plt\n",
    "from pandas_datareader import data as pdr"
   ]
  },
  {
   "cell_type": "code",
   "execution_count": 3,
   "id": "191ba079",
   "metadata": {},
   "outputs": [
    {
     "name": "stdout",
     "output_type": "stream",
     "text": [
      "[*********************100%***********************]  1 of 1 completed\n"
     ]
    },
    {
     "data": {
      "text/html": [
       "<div>\n",
       "<style scoped>\n",
       "    .dataframe tbody tr th:only-of-type {\n",
       "        vertical-align: middle;\n",
       "    }\n",
       "\n",
       "    .dataframe tbody tr th {\n",
       "        vertical-align: top;\n",
       "    }\n",
       "\n",
       "    .dataframe thead th {\n",
       "        text-align: right;\n",
       "    }\n",
       "</style>\n",
       "<table border=\"1\" class=\"dataframe\">\n",
       "  <thead>\n",
       "    <tr style=\"text-align: right;\">\n",
       "      <th></th>\n",
       "      <th>Open</th>\n",
       "      <th>High</th>\n",
       "      <th>Low</th>\n",
       "      <th>Close</th>\n",
       "      <th>Adj Close</th>\n",
       "      <th>Volume</th>\n",
       "    </tr>\n",
       "    <tr>\n",
       "      <th>Date</th>\n",
       "      <th></th>\n",
       "      <th></th>\n",
       "      <th></th>\n",
       "      <th></th>\n",
       "      <th></th>\n",
       "      <th></th>\n",
       "    </tr>\n",
       "  </thead>\n",
       "  <tbody>\n",
       "    <tr>\n",
       "      <th>2023-01-30</th>\n",
       "      <td>144.960007</td>\n",
       "      <td>145.550003</td>\n",
       "      <td>142.850006</td>\n",
       "      <td>143.000000</td>\n",
       "      <td>142.781998</td>\n",
       "      <td>64015300</td>\n",
       "    </tr>\n",
       "    <tr>\n",
       "      <th>2023-01-31</th>\n",
       "      <td>142.699997</td>\n",
       "      <td>144.339996</td>\n",
       "      <td>142.279999</td>\n",
       "      <td>144.289993</td>\n",
       "      <td>144.070023</td>\n",
       "      <td>65874500</td>\n",
       "    </tr>\n",
       "    <tr>\n",
       "      <th>2023-02-01</th>\n",
       "      <td>143.970001</td>\n",
       "      <td>146.610001</td>\n",
       "      <td>141.320007</td>\n",
       "      <td>145.429993</td>\n",
       "      <td>145.208282</td>\n",
       "      <td>77663600</td>\n",
       "    </tr>\n",
       "    <tr>\n",
       "      <th>2023-02-02</th>\n",
       "      <td>148.899994</td>\n",
       "      <td>151.179993</td>\n",
       "      <td>148.169998</td>\n",
       "      <td>150.820007</td>\n",
       "      <td>150.590088</td>\n",
       "      <td>118339000</td>\n",
       "    </tr>\n",
       "    <tr>\n",
       "      <th>2023-02-03</th>\n",
       "      <td>148.029999</td>\n",
       "      <td>157.380005</td>\n",
       "      <td>147.830002</td>\n",
       "      <td>154.500000</td>\n",
       "      <td>154.264465</td>\n",
       "      <td>154357300</td>\n",
       "    </tr>\n",
       "  </tbody>\n",
       "</table>\n",
       "</div>"
      ],
      "text/plain": [
       "                  Open        High         Low       Close   Adj Close  \\\n",
       "Date                                                                     \n",
       "2023-01-30  144.960007  145.550003  142.850006  143.000000  142.781998   \n",
       "2023-01-31  142.699997  144.339996  142.279999  144.289993  144.070023   \n",
       "2023-02-01  143.970001  146.610001  141.320007  145.429993  145.208282   \n",
       "2023-02-02  148.899994  151.179993  148.169998  150.820007  150.590088   \n",
       "2023-02-03  148.029999  157.380005  147.830002  154.500000  154.264465   \n",
       "\n",
       "               Volume  \n",
       "Date                   \n",
       "2023-01-30   64015300  \n",
       "2023-01-31   65874500  \n",
       "2023-02-01   77663600  \n",
       "2023-02-02  118339000  \n",
       "2023-02-03  154357300  "
      ]
     },
     "execution_count": 3,
     "metadata": {},
     "output_type": "execute_result"
    }
   ],
   "source": [
    "yfin.pdr_override()\n",
    "start = '2010-01-01'\n",
    "end = '2023-02-06'\n",
    "\n",
    "df = pdr.get_data_yahoo(\"AAPL\",start,end)\n",
    "df.tail()"
   ]
  },
  {
   "cell_type": "code",
   "execution_count": 4,
   "id": "6676afb9",
   "metadata": {},
   "outputs": [
    {
     "data": {
      "text/html": [
       "<div>\n",
       "<style scoped>\n",
       "    .dataframe tbody tr th:only-of-type {\n",
       "        vertical-align: middle;\n",
       "    }\n",
       "\n",
       "    .dataframe tbody tr th {\n",
       "        vertical-align: top;\n",
       "    }\n",
       "\n",
       "    .dataframe thead th {\n",
       "        text-align: right;\n",
       "    }\n",
       "</style>\n",
       "<table border=\"1\" class=\"dataframe\">\n",
       "  <thead>\n",
       "    <tr style=\"text-align: right;\">\n",
       "      <th></th>\n",
       "      <th>Date</th>\n",
       "      <th>Open</th>\n",
       "      <th>High</th>\n",
       "      <th>Low</th>\n",
       "      <th>Close</th>\n",
       "      <th>Adj Close</th>\n",
       "      <th>Volume</th>\n",
       "    </tr>\n",
       "  </thead>\n",
       "  <tbody>\n",
       "    <tr>\n",
       "      <th>0</th>\n",
       "      <td>2010-01-04</td>\n",
       "      <td>7.622500</td>\n",
       "      <td>7.660714</td>\n",
       "      <td>7.585000</td>\n",
       "      <td>7.643214</td>\n",
       "      <td>6.505280</td>\n",
       "      <td>493729600</td>\n",
       "    </tr>\n",
       "    <tr>\n",
       "      <th>1</th>\n",
       "      <td>2010-01-05</td>\n",
       "      <td>7.664286</td>\n",
       "      <td>7.699643</td>\n",
       "      <td>7.616071</td>\n",
       "      <td>7.656429</td>\n",
       "      <td>6.516526</td>\n",
       "      <td>601904800</td>\n",
       "    </tr>\n",
       "    <tr>\n",
       "      <th>2</th>\n",
       "      <td>2010-01-06</td>\n",
       "      <td>7.656429</td>\n",
       "      <td>7.686786</td>\n",
       "      <td>7.526786</td>\n",
       "      <td>7.534643</td>\n",
       "      <td>6.412873</td>\n",
       "      <td>552160000</td>\n",
       "    </tr>\n",
       "    <tr>\n",
       "      <th>3</th>\n",
       "      <td>2010-01-07</td>\n",
       "      <td>7.562500</td>\n",
       "      <td>7.571429</td>\n",
       "      <td>7.466071</td>\n",
       "      <td>7.520714</td>\n",
       "      <td>6.401017</td>\n",
       "      <td>477131200</td>\n",
       "    </tr>\n",
       "    <tr>\n",
       "      <th>4</th>\n",
       "      <td>2010-01-08</td>\n",
       "      <td>7.510714</td>\n",
       "      <td>7.571429</td>\n",
       "      <td>7.466429</td>\n",
       "      <td>7.570714</td>\n",
       "      <td>6.443576</td>\n",
       "      <td>447610800</td>\n",
       "    </tr>\n",
       "  </tbody>\n",
       "</table>\n",
       "</div>"
      ],
      "text/plain": [
       "        Date      Open      High       Low     Close  Adj Close     Volume\n",
       "0 2010-01-04  7.622500  7.660714  7.585000  7.643214   6.505280  493729600\n",
       "1 2010-01-05  7.664286  7.699643  7.616071  7.656429   6.516526  601904800\n",
       "2 2010-01-06  7.656429  7.686786  7.526786  7.534643   6.412873  552160000\n",
       "3 2010-01-07  7.562500  7.571429  7.466071  7.520714   6.401017  477131200\n",
       "4 2010-01-08  7.510714  7.571429  7.466429  7.570714   6.443576  447610800"
      ]
     },
     "execution_count": 4,
     "metadata": {},
     "output_type": "execute_result"
    }
   ],
   "source": [
    "df = df.reset_index()\n",
    "df.head()"
   ]
  },
  {
   "cell_type": "code",
   "execution_count": 5,
   "id": "353471d6",
   "metadata": {},
   "outputs": [
    {
     "data": {
      "text/html": [
       "<div>\n",
       "<style scoped>\n",
       "    .dataframe tbody tr th:only-of-type {\n",
       "        vertical-align: middle;\n",
       "    }\n",
       "\n",
       "    .dataframe tbody tr th {\n",
       "        vertical-align: top;\n",
       "    }\n",
       "\n",
       "    .dataframe thead th {\n",
       "        text-align: right;\n",
       "    }\n",
       "</style>\n",
       "<table border=\"1\" class=\"dataframe\">\n",
       "  <thead>\n",
       "    <tr style=\"text-align: right;\">\n",
       "      <th></th>\n",
       "      <th>Open</th>\n",
       "      <th>High</th>\n",
       "      <th>Low</th>\n",
       "      <th>Close</th>\n",
       "      <th>Volume</th>\n",
       "    </tr>\n",
       "  </thead>\n",
       "  <tbody>\n",
       "    <tr>\n",
       "      <th>0</th>\n",
       "      <td>7.622500</td>\n",
       "      <td>7.660714</td>\n",
       "      <td>7.585000</td>\n",
       "      <td>7.643214</td>\n",
       "      <td>493729600</td>\n",
       "    </tr>\n",
       "    <tr>\n",
       "      <th>1</th>\n",
       "      <td>7.664286</td>\n",
       "      <td>7.699643</td>\n",
       "      <td>7.616071</td>\n",
       "      <td>7.656429</td>\n",
       "      <td>601904800</td>\n",
       "    </tr>\n",
       "    <tr>\n",
       "      <th>2</th>\n",
       "      <td>7.656429</td>\n",
       "      <td>7.686786</td>\n",
       "      <td>7.526786</td>\n",
       "      <td>7.534643</td>\n",
       "      <td>552160000</td>\n",
       "    </tr>\n",
       "    <tr>\n",
       "      <th>3</th>\n",
       "      <td>7.562500</td>\n",
       "      <td>7.571429</td>\n",
       "      <td>7.466071</td>\n",
       "      <td>7.520714</td>\n",
       "      <td>477131200</td>\n",
       "    </tr>\n",
       "    <tr>\n",
       "      <th>4</th>\n",
       "      <td>7.510714</td>\n",
       "      <td>7.571429</td>\n",
       "      <td>7.466429</td>\n",
       "      <td>7.570714</td>\n",
       "      <td>447610800</td>\n",
       "    </tr>\n",
       "  </tbody>\n",
       "</table>\n",
       "</div>"
      ],
      "text/plain": [
       "       Open      High       Low     Close     Volume\n",
       "0  7.622500  7.660714  7.585000  7.643214  493729600\n",
       "1  7.664286  7.699643  7.616071  7.656429  601904800\n",
       "2  7.656429  7.686786  7.526786  7.534643  552160000\n",
       "3  7.562500  7.571429  7.466071  7.520714  477131200\n",
       "4  7.510714  7.571429  7.466429  7.570714  447610800"
      ]
     },
     "execution_count": 5,
     "metadata": {},
     "output_type": "execute_result"
    }
   ],
   "source": [
    "df= df.drop(['Date', 'Adj Close'], axis=1)\n",
    "df.head()"
   ]
  },
  {
   "cell_type": "code",
   "execution_count": 6,
   "id": "6bd2925c",
   "metadata": {},
   "outputs": [
    {
     "data": {
      "text/plain": [
       "[<matplotlib.lines.Line2D at 0x1ebac27f790>]"
      ]
     },
     "execution_count": 6,
     "metadata": {},
     "output_type": "execute_result"
    },
    {
     "data": {
      "image/png": "[encoded data removed]",
      "text/plain": [
       "<Figure size 432x288 with 1 Axes>"
      ]
     },
     "metadata": {
      "needs_background": "light"
     },
     "output_type": "display_data"
    }
   ],
   "source": [
    "plt.plot(df.Close)"
   ]
  },
  {
   "cell_type": "code",
   "execution_count": 7,
   "id": "ae476117",
   "metadata": {},
   "outputs": [],
   "source": [
    "MA100 = df.Close.rolling(100).mean()\n",
    "MA200 = df.Close.rolling(200).mean()\n",
    "#MA100\n",
    "#MA200"
   ]
  },
  {
   "cell_type": "code",
   "execution_count": 8,
   "id": "e54cbeed",
   "metadata": {},
   "outputs": [
    {
     "data": {
      "text/plain": [
       "[<matplotlib.lines.Line2D at 0x1ebb12f71f0>]"
      ]
     },
     "execution_count": 8,
     "metadata": {},
     "output_type": "execute_result"
    },
    {
     "data": {
      "image/png": "[encoded data removed]",
      "text/plain": [
       "<Figure size 864x432 with 1 Axes>"
      ]
     },
     "metadata": {
      "needs_background": "light"
     },
     "output_type": "display_data"
    }
   ],
   "source": [
    "plt.figure(figsize = (12,6))\n",
    "plt.plot(df.Close)\n",
    "plt.plot(MA100, 'r')\n",
    "plt.plot(MA200, 'g')"
   ]
  },
  {
   "cell_type": "code",
   "execution_count": 9,
   "id": "847d97a4",
   "metadata": {},
   "outputs": [
    {
     "name": "stdout",
     "output_type": "stream",
     "text": [
      "(2306, 1)\n",
      "(989, 1)\n"
     ]
    }
   ],
   "source": [
    "#Spliting The data into training and testing\n",
    "train = pd.DataFrame(df['Close'][0:int(len(df)*0.70)])\n",
    "test = pd.DataFrame(df['Close'][int(len(df)*0.70): int(len(df))])\n",
    "\n",
    "print(train.shape)\n",
    "print(test.shape)"
   ]
  },
  {
   "cell_type": "code",
   "execution_count": 10,
   "id": "767a9a2b",
   "metadata": {},
   "outputs": [],
   "source": [
    "scaler = MinMaxScaler(feature_range=(0,1))"
   ]
  },
  {
   "cell_type": "code",
   "execution_count": 11,
   "id": "cc4347ad",
   "metadata": {},
   "outputs": [
    {
     "data": {
      "text/plain": [
       "array([[0.01533047],\n",
       "       [0.01558878],\n",
       "       [0.01320823],\n",
       "       ...,\n",
       "       [0.71207165],\n",
       "       [0.7209656 ],\n",
       "       [0.72526598]])"
      ]
     },
     "execution_count": 11,
     "metadata": {},
     "output_type": "execute_result"
    }
   ],
   "source": [
    "train_array = scaler.fit_transform(train)\n",
    "train_array"
   ]
  },
  {
   "cell_type": "code",
   "execution_count": 12,
   "id": "b8aef626",
   "metadata": {},
   "outputs": [],
   "source": [
    "x_train = []\n",
    "y_train = []\n",
    "for i in range(100, train_array.shape[0]):\n",
    "    x_train.append(train_array[i-100: i])\n",
    "    y_train.append(train_array[i, 0])\n",
    "    \n",
    "x_train = np.array(x_train)\n",
    "y_train = np.array(y_train)"
   ]
  },
  {
   "cell_type": "markdown",
   "id": "c382a8c5",
   "metadata": {},
   "source": [
    "# Machine learning model"
   ]
  },
  {
   "cell_type": "code",
   "execution_count": 5,
   "id": "83b82e8b",
   "metadata": {},
   "outputs": [],
   "source": [
    "from keras.layers import Dense, Dropout, LSTM\n",
    "from keras.models import Sequential"
   ]
  },
  {
   "cell_type": "code",
   "execution_count": 15,
   "id": "4dad66e9",
   "metadata": {},
   "outputs": [],
   "source": [
    "model = Sequential()\n",
    "model.add(LSTM(units = 50, activation = 'relu', return_sequences = True, input_shape = (x_train.shape[1], 1)))\n",
    "model.add(Dropout(0.2))\n",
    "model.add(LSTM(units = 60, activation = 'relu', return_sequences = True))\n",
    "model.add(Dropout(0.3))\n",
    "model.add(LSTM(units = 80, activation = 'relu', return_sequences = True))\n",
    "model.add(Dropout(0.4))\n",
    "model.add(LSTM(units = 120, activation = 'relu'))\n",
    "model.add(Dropout(0.5))\n",
    "\n",
    "model.add(Dense(units = 1))"
   ]
  },
  {
   "cell_type": "code",
   "execution_count": 16,
   "id": "6268decb",
   "metadata": {},
   "outputs": [
    {
     "name": "stdout",
     "output_type": "stream",
     "text": [
      "Epoch 1/50\n",
      "69/69 [==============================] - 15s 143ms/step - loss: 0.0322\n",
      "Epoch 2/50\n",
      "69/69 [==============================] - 9s 133ms/step - loss: 0.0067\n",
      "Epoch 3/50\n",
      "69/69 [==============================] - 9s 135ms/step - loss: 0.0060\n",
      "Epoch 4/50\n",
      "69/69 [==============================] - 9s 133ms/step - loss: 0.0059\n",
      "Epoch 5/50\n",
      "69/69 [==============================] - 9s 136ms/step - loss: 0.0054\n",
      "Epoch 6/50\n",
      "69/69 [==============================] - 9s 134ms/step - loss: 0.0052\n",
      "Epoch 7/50\n",
      "69/69 [==============================] - 9s 134ms/step - loss: 0.0047\n",
      "Epoch 8/50\n",
      "69/69 [==============================] - 9s 135ms/step - loss: 0.0046\n",
      "Epoch 9/50\n",
      "69/69 [==============================] - 9s 132ms/step - loss: 0.0043\n",
      "Epoch 10/50\n",
      "69/69 [==============================] - 9s 134ms/step - loss: 0.0045\n",
      "Epoch 11/50\n",
      "69/69 [==============================] - 9s 132ms/step - loss: 0.0039\n",
      "Epoch 12/50\n",
      "69/69 [==============================] - 9s 136ms/step - loss: 0.0040\n",
      "Epoch 13/50\n",
      "69/69 [==============================] - 9s 134ms/step - loss: 0.0035\n",
      "Epoch 14/50\n",
      "69/69 [==============================] - 9s 134ms/step - loss: 0.0035\n",
      "Epoch 15/50\n",
      "69/69 [==============================] - 9s 136ms/step - loss: 0.0031\n",
      "Epoch 16/50\n",
      "69/69 [==============================] - 9s 133ms/step - loss: 0.0028\n",
      "Epoch 17/50\n",
      "69/69 [==============================] - 9s 135ms/step - loss: 0.0030\n",
      "Epoch 18/50\n",
      "69/69 [==============================] - 9s 133ms/step - loss: 0.0029\n",
      "Epoch 19/50\n",
      "69/69 [==============================] - 9s 136ms/step - loss: 0.0029\n",
      "Epoch 20/50\n",
      "69/69 [==============================] - 9s 135ms/step - loss: 0.0027\n",
      "Epoch 21/50\n",
      "69/69 [==============================] - 9s 133ms/step - loss: 0.0029\n",
      "Epoch 22/50\n",
      "69/69 [==============================] - 9s 136ms/step - loss: 0.0028\n",
      "Epoch 23/50\n",
      "69/69 [==============================] - 9s 132ms/step - loss: 0.0026\n",
      "Epoch 24/50\n",
      "69/69 [==============================] - 9s 135ms/step - loss: 0.0025\n",
      "Epoch 25/50\n",
      "69/69 [==============================] - 9s 133ms/step - loss: 0.0022\n",
      "Epoch 26/50\n",
      "69/69 [==============================] - 9s 134ms/step - loss: 0.0024\n",
      "Epoch 27/50\n",
      "69/69 [==============================] - 9s 135ms/step - loss: 0.0021\n",
      "Epoch 28/50\n",
      "69/69 [==============================] - 9s 131ms/step - loss: 0.0021\n",
      "Epoch 29/50\n",
      "69/69 [==============================] - 9s 134ms/step - loss: 0.0022\n",
      "Epoch 30/50\n",
      "69/69 [==============================] - 9s 133ms/step - loss: 0.0020\n",
      "Epoch 31/50\n",
      "69/69 [==============================] - 9s 135ms/step - loss: 0.0021\n",
      "Epoch 32/50\n",
      "69/69 [==============================] - 9s 132ms/step - loss: 0.0021\n",
      "Epoch 33/50\n",
      "69/69 [==============================] - 9s 133ms/step - loss: 0.0020\n",
      "Epoch 34/50\n",
      "69/69 [==============================] - 9s 134ms/step - loss: 0.0021\n",
      "Epoch 35/50\n",
      "69/69 [==============================] - 9s 132ms/step - loss: 0.0022\n",
      "Epoch 36/50\n",
      "69/69 [==============================] - 9s 135ms/step - loss: 0.0022\n",
      "Epoch 37/50\n",
      "69/69 [==============================] - 9s 131ms/step - loss: 0.0019\n",
      "Epoch 38/50\n",
      "69/69 [==============================] - 9s 135ms/step - loss: 0.0020\n",
      "Epoch 39/50\n",
      "69/69 [==============================] - 9s 133ms/step - loss: 0.0020\n",
      "Epoch 40/50\n",
      "69/69 [==============================] - 9s 133ms/step - loss: 0.0021\n",
      "Epoch 41/50\n",
      "69/69 [==============================] - 9s 135ms/step - loss: 0.0018\n",
      "Epoch 42/50\n",
      "69/69 [==============================] - 9s 132ms/step - loss: 0.0020\n",
      "Epoch 43/50\n",
      "69/69 [==============================] - 9s 135ms/step - loss: 0.0019\n",
      "Epoch 44/50\n",
      "69/69 [==============================] - 9s 132ms/step - loss: 0.0019\n",
      "Epoch 45/50\n",
      "69/69 [==============================] - 9s 135ms/step - loss: 0.0019\n",
      "Epoch 46/50\n",
      "69/69 [==============================] - 9s 134ms/step - loss: 0.0019\n",
      "Epoch 47/50\n",
      "69/69 [==============================] - 9s 133ms/step - loss: 0.0018\n",
      "Epoch 48/50\n",
      "69/69 [==============================] - 9s 135ms/step - loss: 0.0018\n",
      "Epoch 49/50\n",
      "69/69 [==============================] - 9s 132ms/step - loss: 0.0017\n",
      "Epoch 50/50\n",
      "69/69 [==============================] - 9s 135ms/step - loss: 0.0018\n"
     ]
    },
    {
     "data": {
      "text/plain": [
       "<keras.callbacks.History at 0x1ebba79cbe0>"
      ]
     },
     "execution_count": 16,
     "metadata": {},
     "output_type": "execute_result"
    }
   ],
   "source": [
    "model.compile(optimizer='adam', loss='mean_squared_error')\n",
    "model.fit(x_train, y_train, epochs = 50)"
   ]
  },
  {
   "cell_type": "code",
   "execution_count": 17,
   "id": "d813aeda",
   "metadata": {},
   "outputs": [],
   "source": [
    "model.save('keras_model.h5')"
   ]
  },
  {
   "cell_type": "code",
   "execution_count": 23,
   "id": "e412981a",
   "metadata": {},
   "outputs": [
    {
     "data": {
      "text/html": [
       "<div>\n",
       "<style scoped>\n",
       "    .dataframe tbody tr th:only-of-type {\n",
       "        vertical-align: middle;\n",
       "    }\n",
       "\n",
       "    .dataframe tbody tr th {\n",
       "        vertical-align: top;\n",
       "    }\n",
       "\n",
       "    .dataframe thead th {\n",
       "        text-align: right;\n",
       "    }\n",
       "</style>\n",
       "<table border=\"1\" class=\"dataframe\">\n",
       "  <thead>\n",
       "    <tr style=\"text-align: right;\">\n",
       "      <th></th>\n",
       "      <th>Close</th>\n",
       "    </tr>\n",
       "  </thead>\n",
       "  <tbody>\n",
       "    <tr>\n",
       "      <th>2206</th>\n",
       "      <td>55.942501</td>\n",
       "    </tr>\n",
       "    <tr>\n",
       "      <th>2207</th>\n",
       "      <td>56.717499</td>\n",
       "    </tr>\n",
       "    <tr>\n",
       "      <th>2208</th>\n",
       "      <td>54.090000</td>\n",
       "    </tr>\n",
       "    <tr>\n",
       "      <th>2209</th>\n",
       "      <td>53.612499</td>\n",
       "    </tr>\n",
       "    <tr>\n",
       "      <th>2210</th>\n",
       "      <td>55.527500</td>\n",
       "    </tr>\n",
       "    <tr>\n",
       "      <th>...</th>\n",
       "      <td>...</td>\n",
       "    </tr>\n",
       "    <tr>\n",
       "      <th>2301</th>\n",
       "      <td>43.582500</td>\n",
       "    </tr>\n",
       "    <tr>\n",
       "      <th>2302</th>\n",
       "      <td>43.717499</td>\n",
       "    </tr>\n",
       "    <tr>\n",
       "      <th>2303</th>\n",
       "      <td>43.287498</td>\n",
       "    </tr>\n",
       "    <tr>\n",
       "      <th>2304</th>\n",
       "      <td>43.742500</td>\n",
       "    </tr>\n",
       "    <tr>\n",
       "      <th>2305</th>\n",
       "      <td>43.962502</td>\n",
       "    </tr>\n",
       "  </tbody>\n",
       "</table>\n",
       "<p>100 rows × 1 columns</p>\n",
       "</div>"
      ],
      "text/plain": [
       "          Close\n",
       "2206  55.942501\n",
       "2207  56.717499\n",
       "2208  54.090000\n",
       "2209  53.612499\n",
       "2210  55.527500\n",
       "...         ...\n",
       "2301  43.582500\n",
       "2302  43.717499\n",
       "2303  43.287498\n",
       "2304  43.742500\n",
       "2305  43.962502\n",
       "\n",
       "[100 rows x 1 columns]"
      ]
     },
     "execution_count": 23,
     "metadata": {},
     "output_type": "execute_result"
    }
   ],
   "source": [
    "train.tail(100)"
   ]
  },
  {
   "cell_type": "code",
   "execution_count": 31,
   "id": "b2da5679",
   "metadata": {},
   "outputs": [
    {
     "data": {
      "text/html": [
       "<div>\n",
       "<style scoped>\n",
       "    .dataframe tbody tr th:only-of-type {\n",
       "        vertical-align: middle;\n",
       "    }\n",
       "\n",
       "    .dataframe tbody tr th {\n",
       "        vertical-align: top;\n",
       "    }\n",
       "\n",
       "    .dataframe thead th {\n",
       "        text-align: right;\n",
       "    }\n",
       "</style>\n",
       "<table border=\"1\" class=\"dataframe\">\n",
       "  <thead>\n",
       "    <tr style=\"text-align: right;\">\n",
       "      <th></th>\n",
       "      <th>Close</th>\n",
       "    </tr>\n",
       "  </thead>\n",
       "  <tbody>\n",
       "    <tr>\n",
       "      <th>2306</th>\n",
       "      <td>43.882500</td>\n",
       "    </tr>\n",
       "    <tr>\n",
       "      <th>2307</th>\n",
       "      <td>43.630001</td>\n",
       "    </tr>\n",
       "    <tr>\n",
       "      <th>2308</th>\n",
       "      <td>43.125000</td>\n",
       "    </tr>\n",
       "    <tr>\n",
       "      <th>2309</th>\n",
       "      <td>43.227501</td>\n",
       "    </tr>\n",
       "    <tr>\n",
       "      <th>2310</th>\n",
       "      <td>44.724998</td>\n",
       "    </tr>\n",
       "    <tr>\n",
       "      <th>...</th>\n",
       "      <td>...</td>\n",
       "    </tr>\n",
       "    <tr>\n",
       "      <th>3290</th>\n",
       "      <td>143.000000</td>\n",
       "    </tr>\n",
       "    <tr>\n",
       "      <th>3291</th>\n",
       "      <td>144.289993</td>\n",
       "    </tr>\n",
       "    <tr>\n",
       "      <th>3292</th>\n",
       "      <td>145.429993</td>\n",
       "    </tr>\n",
       "    <tr>\n",
       "      <th>3293</th>\n",
       "      <td>150.820007</td>\n",
       "    </tr>\n",
       "    <tr>\n",
       "      <th>3294</th>\n",
       "      <td>154.500000</td>\n",
       "    </tr>\n",
       "  </tbody>\n",
       "</table>\n",
       "<p>989 rows × 1 columns</p>\n",
       "</div>"
      ],
      "text/plain": [
       "           Close\n",
       "2306   43.882500\n",
       "2307   43.630001\n",
       "2308   43.125000\n",
       "2309   43.227501\n",
       "2310   44.724998\n",
       "...          ...\n",
       "3290  143.000000\n",
       "3291  144.289993\n",
       "3292  145.429993\n",
       "3293  150.820007\n",
       "3294  154.500000\n",
       "\n",
       "[989 rows x 1 columns]"
      ]
     },
     "execution_count": 31,
     "metadata": {},
     "output_type": "execute_result"
    }
   ],
   "source": [
    "past_100_days = train.tail(100)\n",
    "test"
   ]
  },
  {
   "cell_type": "code",
   "execution_count": 29,
   "id": "09665c86",
   "metadata": {},
   "outputs": [
    {
     "name": "stderr",
     "output_type": "stream",
     "text": [
      "C:\\Users\\ANIKET VISHWAKARMA\\AppData\\Local\\Temp\\ipykernel_8364\\1805671855.py:1: FutureWarning: The frame.append method is deprecated and will be removed from pandas in a future version. Use pandas.concat instead.\n",
      "  final_df = past_100_days.append(test, ignore_index=True)\n"
     ]
    }
   ],
   "source": [
    "final_df = past_100_days.append(test, ignore_index=True)"
   ]
  },
  {
   "cell_type": "code",
   "execution_count": 30,
   "id": "d9376df0",
   "metadata": {},
   "outputs": [
    {
     "data": {
      "text/html": [
       "<div>\n",
       "<style scoped>\n",
       "    .dataframe tbody tr th:only-of-type {\n",
       "        vertical-align: middle;\n",
       "    }\n",
       "\n",
       "    .dataframe tbody tr th {\n",
       "        vertical-align: top;\n",
       "    }\n",
       "\n",
       "    .dataframe thead th {\n",
       "        text-align: right;\n",
       "    }\n",
       "</style>\n",
       "<table border=\"1\" class=\"dataframe\">\n",
       "  <thead>\n",
       "    <tr style=\"text-align: right;\">\n",
       "      <th></th>\n",
       "      <th>Close</th>\n",
       "    </tr>\n",
       "  </thead>\n",
       "  <tbody>\n",
       "    <tr>\n",
       "      <th>0</th>\n",
       "      <td>55.942501</td>\n",
       "    </tr>\n",
       "    <tr>\n",
       "      <th>1</th>\n",
       "      <td>56.717499</td>\n",
       "    </tr>\n",
       "    <tr>\n",
       "      <th>2</th>\n",
       "      <td>54.090000</td>\n",
       "    </tr>\n",
       "    <tr>\n",
       "      <th>3</th>\n",
       "      <td>53.612499</td>\n",
       "    </tr>\n",
       "    <tr>\n",
       "      <th>4</th>\n",
       "      <td>55.527500</td>\n",
       "    </tr>\n",
       "    <tr>\n",
       "      <th>...</th>\n",
       "      <td>...</td>\n",
       "    </tr>\n",
       "    <tr>\n",
       "      <th>1084</th>\n",
       "      <td>143.000000</td>\n",
       "    </tr>\n",
       "    <tr>\n",
       "      <th>1085</th>\n",
       "      <td>144.289993</td>\n",
       "    </tr>\n",
       "    <tr>\n",
       "      <th>1086</th>\n",
       "      <td>145.429993</td>\n",
       "    </tr>\n",
       "    <tr>\n",
       "      <th>1087</th>\n",
       "      <td>150.820007</td>\n",
       "    </tr>\n",
       "    <tr>\n",
       "      <th>1088</th>\n",
       "      <td>154.500000</td>\n",
       "    </tr>\n",
       "  </tbody>\n",
       "</table>\n",
       "<p>1089 rows × 1 columns</p>\n",
       "</div>"
      ],
      "text/plain": [
       "           Close\n",
       "0      55.942501\n",
       "1      56.717499\n",
       "2      54.090000\n",
       "3      53.612499\n",
       "4      55.527500\n",
       "...          ...\n",
       "1084  143.000000\n",
       "1085  144.289993\n",
       "1086  145.429993\n",
       "1087  150.820007\n",
       "1088  154.500000\n",
       "\n",
       "[1089 rows x 1 columns]"
      ]
     },
     "execution_count": 30,
     "metadata": {},
     "output_type": "execute_result"
    }
   ],
   "source": [
    "final_df"
   ]
  },
  {
   "cell_type": "code",
   "execution_count": 32,
   "id": "6c1d48e4",
   "metadata": {},
   "outputs": [
    {
     "data": {
      "text/plain": [
       "array([[0.13925067],\n",
       "       [0.14454211],\n",
       "       [0.12660237],\n",
       "       ...,\n",
       "       [0.75024321],\n",
       "       [0.78704454],\n",
       "       [0.81217038]])"
      ]
     },
     "execution_count": 32,
     "metadata": {},
     "output_type": "execute_result"
    }
   ],
   "source": [
    "input_data = scaler.fit_transform(final_df)\n",
    "input_data"
   ]
  },
  {
   "cell_type": "code",
   "execution_count": 33,
   "id": "04d99ba4",
   "metadata": {},
   "outputs": [
    {
     "data": {
      "text/plain": [
       "(1089, 1)"
      ]
     },
     "execution_count": 33,
     "metadata": {},
     "output_type": "execute_result"
    }
   ],
   "source": [
    "input_data.shape"
   ]
  },
  {
   "cell_type": "code",
   "execution_count": 34,
   "id": "b7a2b804",
   "metadata": {},
   "outputs": [],
   "source": [
    "x_test = []\n",
    "y_test = []\n",
    "for i in range(100, input_data.shape[0]):\n",
    "    x_test.append(input_data[i-100: i])\n",
    "    y_test.append(input_data[i, 0])"
   ]
  },
  {
   "cell_type": "code",
   "execution_count": 35,
   "id": "569c6ebd",
   "metadata": {},
   "outputs": [
    {
     "name": "stdout",
     "output_type": "stream",
     "text": [
      "(989, 100, 1)\n",
      "(989,)\n"
     ]
    }
   ],
   "source": [
    "x_test, y_test = np.array(x_test), np.array(y_test)\n",
    "print(x_test.shape)\n",
    "print(y_test.shape)"
   ]
  },
  {
   "cell_type": "code",
   "execution_count": 36,
   "id": "aeda9d49",
   "metadata": {},
   "outputs": [],
   "source": [
    "#Makng Prediction"
   ]
  },
  {
   "cell_type": "code",
   "execution_count": 37,
   "id": "4d8aa0a8",
   "metadata": {},
   "outputs": [
    {
     "name": "stdout",
     "output_type": "stream",
     "text": [
      "31/31 [==============================] - 2s 41ms/step\n"
     ]
    }
   ],
   "source": [
    "y_pred = model.predict(x_test)"
   ]
  },
  {
   "cell_type": "code",
   "execution_count": 38,
   "id": "e1e18820",
   "metadata": {},
   "outputs": [
    {
     "data": {
      "text/plain": [
       "(989, 1)"
      ]
     },
     "execution_count": 38,
     "metadata": {},
     "output_type": "execute_result"
    }
   ],
   "source": [
    "y_pred.shape"
   ]
  },
  {
   "cell_type": "code",
   "execution_count": 39,
   "id": "f1d1debb",
   "metadata": {},
   "outputs": [
    {
     "data": {
      "text/plain": [
       "array([0.00682769])"
      ]
     },
     "execution_count": 39,
     "metadata": {},
     "output_type": "execute_result"
    }
   ],
   "source": [
    "scaler.scale_"
   ]
  },
  {
   "cell_type": "code",
   "execution_count": 40,
   "id": "ddab1987",
   "metadata": {},
   "outputs": [],
   "source": [
    "scale_factor = 1/0.00682769\n",
    "y_pred = y_pred*scale_factor\n",
    "y_test = y_test*scale_factor"
   ]
  },
  {
   "cell_type": "code",
   "execution_count": 41,
   "id": "1fe498d4",
   "metadata": {},
   "outputs": [
    {
     "data": {
      "image/png": "[encoded data removed]",
      "text/plain": [
       "<Figure size 864x432 with 1 Axes>"
      ]
     },
     "metadata": {
      "needs_background": "light"
     },
     "output_type": "display_data"
    }
   ],
   "source": [
    "plt.figure(figsize=(12,6))\n",
    "plt.plot(y_test, 'b', label = 'Original Price')\n",
    "plt.plot(y_pred, 'r', label = 'Predicted Price')\n",
    "plt.xlabel('Time')\n",
    "plt.ylabel('Price')\n",
    "plt.legend()\n",
    "plt.show()"
   ]
  },
  {
   "cell_type": "code",
   "execution_count": 1,
   "id": "3f12df6d",
   "metadata": {},
   "outputs": [
    {
     "name": "stderr",
     "output_type": "stream",
     "text": [
      "C:\\ProgramData\\Anaconda3\\lib\\site-packages\\requests\\__init__.py:102: RequestsDependencyWarning: urllib3 (1.26.9) or chardet (5.1.0)/charset_normalizer (2.0.4) doesn't match a supported version!\n",
      "  warnings.warn(\"urllib3 ({}) or chardet ({})/charset_normalizer ({}) doesn't match a supported \"\n"
     ]
    }
   ],
   "source": [
    "from tensorflow import keras\n",
    "import tensorflow"
   ]
  },
  {
   "cell_type": "code",
   "execution_count": 8,
   "id": "b242e5c4",
   "metadata": {},
   "outputs": [
    {
     "name": "stderr",
     "output_type": "stream",
     "text": [
      "WARNING:absl:Found untraced functions such as _update_step_xla while saving (showing 1 of 1). These functions will not be directly callable after loading.\n"
     ]
    },
    {
     "name": "stdout",
     "output_type": "stream",
     "text": [
      "INFO:tensorflow:Assets written to: C:\\Users\\ANIKET~1\\AppData\\Local\\Temp\\tmpj2axp11x\\assets\n"
     ]
    },
    {
     "name": "stderr",
     "output_type": "stream",
     "text": [
      "INFO:tensorflow:Assets written to: C:\\Users\\ANIKET~1\\AppData\\Local\\Temp\\tmpj2axp11x\\assets\n"
     ]
    }
   ],
   "source": [
    "modelnew = keras.models.load_model('C:/Users/ANIKET VISHWAKARMA/My project/Untitled Folder/keras_model.h5')\n",
    "converter = tensorflow.lite.TFLiteConverter.from_keras_model(modelnew)\n",
    "converter.target_spec.supported_ops = [\n",
    "    tensorflow.lite.OpsSet.TFLITE_BUILTINS,\n",
    "    tensorflow.lite.OpsSet.SELECT_TF_OPS\n",
    "]\n",
    "tflite_model = converter.convert()\n",
    "with open(\"converted_model.tflite\",\"wb\") as file:\n",
    "    file.write(tflite_model)"
   ]
  },
  {
   "cell_type": "code",
   "execution_count": null,
   "id": "e22e413c",
   "metadata": {},
   "outputs": [],
   "source": []
  }
 ],
 "metadata": {
  "kernelspec": {
   "display_name": "Python 3 (ipykernel)",
   "language": "python",
   "name": "python3"
  },
  "language_info": {
   "codemirror_mode": {
    "name": "ipython",
    "version": 3
   },
   "file_extension": ".py",
   "mimetype": "text/x-python",
   "name": "python",
   "nbconvert_exporter": "python",
   "pygments_lexer": "ipython3",
   "version": "3.9.13"
  }
 },
 "nbformat": 4,
 "nbformat_minor": 5
}
